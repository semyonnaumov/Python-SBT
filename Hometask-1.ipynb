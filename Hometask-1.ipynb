{
 "cells": [
  {
   "cell_type": "markdown",
   "metadata": {},
   "source": [
    "# 1. Python"
   ]
  },
  {
   "cell_type": "markdown",
   "metadata": {},
   "source": [
    "### 1. List, tuple, dict, set, range, xrange, list comprehension"
   ]
  },
  {
   "cell_type": "markdown",
   "metadata": {},
   "source": [
    "List - изменяемый тип, tuple - неизменяемый. Соответственно второй можно использовать в качестве ключа для dict и добавлять в set, так как dict и set используют хэш-функцию. Dict в python - это хеш-таблица. Range в python 2.x возвращает list, а x range - генератор. List comprehension - синтаксический сахар для быстрого создания массивов. Функция map() - это функция, принимающая аргументами другую функцию одного аргумента и массив. Возвращаемым значеним map() является итератор по массиву, образованному из первоначального применением функции ко всем его элементам. Функция reduce() имеет такие же аргументы, как и map(). Она последовательно применяет функцию к элементам массива, и на выходе получается одно значение."
   ]
  },
  {
   "cell_type": "markdown",
   "metadata": {},
   "source": [
    "List:"
   ]
  },
  {
   "cell_type": "code",
   "execution_count": 2,
   "metadata": {},
   "outputs": [
    {
     "name": "stdout",
     "output_type": "stream",
     "text": [
      "[1, 'B', 15.5, 80]\n"
     ]
    }
   ],
   "source": [
    "a = [1, \"B\", 15.5]\n",
    "a.append(80)\n",
    "print(a)"
   ]
  },
  {
   "cell_type": "markdown",
   "metadata": {},
   "source": [
    "Tuple:"
   ]
  },
  {
   "cell_type": "code",
   "execution_count": 4,
   "metadata": {
    "scrolled": true
   },
   "outputs": [
    {
     "name": "stdout",
     "output_type": "stream",
     "text": [
      "(1, 20.5, 'A', [18, 30, 40])\n"
     ]
    },
    {
     "ename": "AttributeError",
     "evalue": "'tuple' object has no attribute 'append'",
     "output_type": "error",
     "traceback": [
      "\u001b[1;31m---------------------------------------------------------------------------\u001b[0m",
      "\u001b[1;31mAttributeError\u001b[0m                            Traceback (most recent call last)",
      "\u001b[1;32m<ipython-input-4-b9145389ad45>\u001b[0m in \u001b[0;36m<module>\u001b[1;34m()\u001b[0m\n\u001b[0;32m      2\u001b[0m \u001b[0mb\u001b[0m\u001b[1;33m[\u001b[0m\u001b[1;36m3\u001b[0m\u001b[1;33m]\u001b[0m\u001b[1;33m.\u001b[0m\u001b[0mappend\u001b[0m\u001b[1;33m(\u001b[0m\u001b[1;36m40\u001b[0m\u001b[1;33m)\u001b[0m \u001b[1;31m# Допустимо, т.к. хеш от list вычисляется по его ссылке, которая фактически лежит в a[3] и не меняется\u001b[0m\u001b[1;33m\u001b[0m\u001b[0m\n\u001b[0;32m      3\u001b[0m \u001b[0mprint\u001b[0m\u001b[1;33m(\u001b[0m\u001b[0mb\u001b[0m\u001b[1;33m)\u001b[0m\u001b[1;33m\u001b[0m\u001b[0m\n\u001b[1;32m----> 4\u001b[1;33m \u001b[0mb\u001b[0m\u001b[1;33m.\u001b[0m\u001b[0mappend\u001b[0m\u001b[1;33m(\u001b[0m\u001b[1;36m2\u001b[0m\u001b[1;33m)\u001b[0m \u001b[1;31m# Нельзя!\u001b[0m\u001b[1;33m\u001b[0m\u001b[0m\n\u001b[0m",
      "\u001b[1;31mAttributeError\u001b[0m: 'tuple' object has no attribute 'append'"
     ]
    }
   ],
   "source": [
    "b = (1, 20.5, \"A\", [18, 30])\n",
    "b[3].append(40) # Допустимо, т.к. хеш от list вычисляется по его ссылке, которая фактически лежит в a[3] и не меняется \n",
    "print(b)\n",
    "b.append(2) # Нельзя!"
   ]
  },
  {
   "cell_type": "markdown",
   "metadata": {},
   "source": [
    "Dict:"
   ]
  },
  {
   "cell_type": "code",
   "execution_count": 5,
   "metadata": {},
   "outputs": [],
   "source": [
    "d = {\"key1\": \"value1\", \"key2\": 2, 3:3}"
   ]
  },
  {
   "cell_type": "markdown",
   "metadata": {},
   "source": [
    "Set:"
   ]
  },
  {
   "cell_type": "code",
   "execution_count": 6,
   "metadata": {},
   "outputs": [],
   "source": [
    "c = {\"a\", 1, 13.5}"
   ]
  },
  {
   "cell_type": "markdown",
   "metadata": {},
   "source": [
    "map():"
   ]
  },
  {
   "cell_type": "code",
   "execution_count": 7,
   "metadata": {
    "scrolled": true
   },
   "outputs": [
    {
     "name": "stdout",
     "output_type": "stream",
     "text": [
      "[3, 4, 5]\n"
     ]
    }
   ],
   "source": [
    "a = [1, 2, 3]\n",
    "print(list(map(lambda x: x++2, a)))"
   ]
  },
  {
   "cell_type": "markdown",
   "metadata": {},
   "source": [
    "reduce():"
   ]
  },
  {
   "cell_type": "code",
   "execution_count": 8,
   "metadata": {},
   "outputs": [
    {
     "name": "stdout",
     "output_type": "stream",
     "text": [
      "5\n"
     ]
    }
   ],
   "source": [
    "from functools import reduce\n",
    "b = [1]*5\n",
    "print(reduce(lambda x, y: x + y, b))"
   ]
  },
  {
   "cell_type": "markdown",
   "metadata": {},
   "source": [
    "### 2. Рекурсивное вычисление чисел Фибоначчи"
   ]
  },
  {
   "cell_type": "code",
   "execution_count": 9,
   "metadata": {},
   "outputs": [],
   "source": [
    "def fib(n):\n",
    "    if n == 0 or n == 1:\n",
    "        return 1\n",
    "    else:\n",
    "        return fib(n-1) + fib(n-2)"
   ]
  },
  {
   "cell_type": "markdown",
   "metadata": {},
   "source": [
    "Алгоритм экспоненциальный, при достижении n 35-36 время рассчета становится существенным: "
   ]
  },
  {
   "cell_type": "code",
   "execution_count": 10,
   "metadata": {},
   "outputs": [
    {
     "name": "stdout",
     "output_type": "stream",
     "text": [
      "5.15 µs ± 193 ns per loop (mean ± std. dev. of 7 runs, 100000 loops each)\n"
     ]
    }
   ],
   "source": [
    "%%timeit\n",
    "fib(6)"
   ]
  },
  {
   "cell_type": "code",
   "execution_count": 11,
   "metadata": {},
   "outputs": [
    {
     "name": "stdout",
     "output_type": "stream",
     "text": [
      "407 µs ± 15.4 µs per loop (mean ± std. dev. of 7 runs, 1000 loops each)\n"
     ]
    }
   ],
   "source": [
    "%%timeit\n",
    "fib(15)"
   ]
  },
  {
   "cell_type": "code",
   "execution_count": 12,
   "metadata": {
    "scrolled": false
   },
   "outputs": [
    {
     "name": "stdout",
     "output_type": "stream",
     "text": [
      "9.77 s ± 280 ms per loop (mean ± std. dev. of 7 runs, 1 loop each)\n"
     ]
    }
   ],
   "source": [
    "%%timeit\n",
    "fib(36)"
   ]
  },
  {
   "cell_type": "markdown",
   "metadata": {},
   "source": [
    "Проблемы с глубиной рекурсии начинаются с n ~ 3000:"
   ]
  },
  {
   "cell_type": "code",
   "execution_count": 13,
   "metadata": {},
   "outputs": [
    {
     "ename": "RecursionError",
     "evalue": "maximum recursion depth exceeded in comparison",
     "output_type": "error",
     "traceback": [
      "\u001b[1;31m---------------------------------------------------------------------------\u001b[0m",
      "\u001b[1;31mRecursionError\u001b[0m                            Traceback (most recent call last)",
      "\u001b[1;32m<ipython-input-13-390bb6a3726e>\u001b[0m in \u001b[0;36m<module>\u001b[1;34m()\u001b[0m\n\u001b[1;32m----> 1\u001b[1;33m \u001b[0mprint\u001b[0m\u001b[1;33m(\u001b[0m\u001b[0mfib\u001b[0m\u001b[1;33m(\u001b[0m\u001b[1;36m3000\u001b[0m\u001b[1;33m)\u001b[0m\u001b[1;33m)\u001b[0m\u001b[1;33m\u001b[0m\u001b[0m\n\u001b[0m",
      "\u001b[1;32m<ipython-input-9-b09ea45c514a>\u001b[0m in \u001b[0;36mfib\u001b[1;34m(n)\u001b[0m\n\u001b[0;32m      3\u001b[0m         \u001b[1;32mreturn\u001b[0m \u001b[1;36m1\u001b[0m\u001b[1;33m\u001b[0m\u001b[0m\n\u001b[0;32m      4\u001b[0m     \u001b[1;32melse\u001b[0m\u001b[1;33m:\u001b[0m\u001b[1;33m\u001b[0m\u001b[0m\n\u001b[1;32m----> 5\u001b[1;33m         \u001b[1;32mreturn\u001b[0m \u001b[0mfib\u001b[0m\u001b[1;33m(\u001b[0m\u001b[0mn\u001b[0m\u001b[1;33m-\u001b[0m\u001b[1;36m1\u001b[0m\u001b[1;33m)\u001b[0m \u001b[1;33m+\u001b[0m \u001b[0mfib\u001b[0m\u001b[1;33m(\u001b[0m\u001b[0mn\u001b[0m\u001b[1;33m-\u001b[0m\u001b[1;36m2\u001b[0m\u001b[1;33m)\u001b[0m\u001b[1;33m\u001b[0m\u001b[0m\n\u001b[0m",
      "... last 1 frames repeated, from the frame below ...\n",
      "\u001b[1;32m<ipython-input-9-b09ea45c514a>\u001b[0m in \u001b[0;36mfib\u001b[1;34m(n)\u001b[0m\n\u001b[0;32m      3\u001b[0m         \u001b[1;32mreturn\u001b[0m \u001b[1;36m1\u001b[0m\u001b[1;33m\u001b[0m\u001b[0m\n\u001b[0;32m      4\u001b[0m     \u001b[1;32melse\u001b[0m\u001b[1;33m:\u001b[0m\u001b[1;33m\u001b[0m\u001b[0m\n\u001b[1;32m----> 5\u001b[1;33m         \u001b[1;32mreturn\u001b[0m \u001b[0mfib\u001b[0m\u001b[1;33m(\u001b[0m\u001b[0mn\u001b[0m\u001b[1;33m-\u001b[0m\u001b[1;36m1\u001b[0m\u001b[1;33m)\u001b[0m \u001b[1;33m+\u001b[0m \u001b[0mfib\u001b[0m\u001b[1;33m(\u001b[0m\u001b[0mn\u001b[0m\u001b[1;33m-\u001b[0m\u001b[1;36m2\u001b[0m\u001b[1;33m)\u001b[0m\u001b[1;33m\u001b[0m\u001b[0m\n\u001b[0m",
      "\u001b[1;31mRecursionError\u001b[0m: maximum recursion depth exceeded in comparison"
     ]
    }
   ],
   "source": [
    "print(fib(3000))"
   ]
  },
  {
   "cell_type": "markdown",
   "metadata": {},
   "source": [
    "Допустимая глубина рекурсии в python меняется следующим образом:"
   ]
  },
  {
   "cell_type": "code",
   "execution_count": null,
   "metadata": {},
   "outputs": [],
   "source": [
    "limit = 1000\n",
    "sys.setrecursionlimit(limit)"
   ]
  },
  {
   "cell_type": "markdown",
   "metadata": {},
   "source": [
    "### 3. Измерение времени работы "
   ]
  },
  {
   "cell_type": "markdown",
   "metadata": {},
   "source": [
    "Выполнено выше"
   ]
  },
  {
   "cell_type": "markdown",
   "metadata": {},
   "source": [
    "### 4. Модуль и аргумент комплексного числа"
   ]
  },
  {
   "cell_type": "code",
   "execution_count": 14,
   "metadata": {},
   "outputs": [],
   "source": [
    "import math\n",
    "\n",
    "def get_abs_and_arg(real, imaginary):\n",
    "    abs_val = (real**2 + imaginary**2)**(1/2)\n",
    "    float_equality_threshold = 10e-9\n",
    "    if(real <= float_equality_threshold):\n",
    "        if (real > 0):\n",
    "            arg_val = math.pi * (3/2)\n",
    "        else:\n",
    "            arg_val = math.pi * (1/2)\n",
    "    else:\n",
    "        arg_val = math.atan(imaginary/real)\n",
    "    return abs_val, arg_val"
   ]
  },
  {
   "cell_type": "markdown",
   "metadata": {},
   "source": [
    "Функция возвращает tuple:"
   ]
  },
  {
   "cell_type": "code",
   "execution_count": 15,
   "metadata": {},
   "outputs": [
    {
     "name": "stdout",
     "output_type": "stream",
     "text": [
      "(10.0, 0.0)\n",
      "(10.0, 1.5707963267948966)\n",
      "(7.0710678118654755, 0.7853981633974483)\n"
     ]
    }
   ],
   "source": [
    "print(get_abs_and_arg(10, 0))\n",
    "print(get_abs_and_arg(0, 10))\n",
    "print(get_abs_and_arg(5.0, 5.0))"
   ]
  },
  {
   "cell_type": "markdown",
   "metadata": {},
   "source": [
    "### 5. Doctest "
   ]
  },
  {
   "cell_type": "code",
   "execution_count": 16,
   "metadata": {},
   "outputs": [],
   "source": [
    "import doctest\n",
    "def get_abs_and_arg(real, imaginary):\n",
    "    \"\"\"Returns the absolut value and the argument of complex number\n",
    "    with given real and imaginary parts.\n",
    "\n",
    "    If the result is small enough to fit in an int, return an int.\n",
    "    Else return a long.\n",
    "\n",
    "    >>> get_abs_and_arg(10, 0)\n",
    "    (10.0, 0.0)\n",
    "    >>> get_abs_and_arg(0, 10)\n",
    "    (10.0, 1.5707963267948966)\n",
    "    >>> get_abs_and_arg(5.0, 5.0)\n",
    "    (7.0710678118654755, 0.7853981633974483)\n",
    "    >>> get_abs_and_arg(\"a\", 5.0)\n",
    "    Traceback (most recent call last):\n",
    "        ...\n",
    "    TypeError: arguments must be of type int or float\n",
    "    \"\"\"\n",
    "    \n",
    "    import math\n",
    "    \n",
    "    if (type(real) != int and type(real) != float or type(imaginary) != int and type(imaginary) != float):\n",
    "        raise TypeError(\"arguments must be of type int or float\")\n",
    "    \n",
    "    abs_val = (real**2 + imaginary**2)**(1/2)\n",
    "    float_equality_threshold = 10e-9\n",
    "    if(real <= float_equality_threshold):\n",
    "        if (real > 0):\n",
    "            arg_val = math.pi * (3/2)\n",
    "        else:\n",
    "            arg_val = math.pi * (1/2)\n",
    "    else:\n",
    "        arg_val = math.atan(imaginary/real)\n",
    "    return abs_val, arg_val"
   ]
  },
  {
   "cell_type": "code",
   "execution_count": 17,
   "metadata": {},
   "outputs": [
    {
     "data": {
      "text/plain": [
       "TestResults(failed=0, attempted=4)"
      ]
     },
     "execution_count": 17,
     "metadata": {},
     "output_type": "execute_result"
    }
   ],
   "source": [
    "doctest.testmod()"
   ]
  },
  {
   "cell_type": "markdown",
   "metadata": {},
   "source": [
    "### 6. Классы"
   ]
  },
  {
   "cell_type": "code",
   "execution_count": 18,
   "metadata": {},
   "outputs": [],
   "source": [
    "class Complex_Number(object):\n",
    "    def __init__(self, real, imaginary):\n",
    "        self.real = real\n",
    "        self.imaginary = imaginary\n",
    "        \n",
    "    def __add__(self, another_complex):\n",
    "        return Complex_Number(self.real + another_complex.real, self.imaginary + another_complex.imaginary)\n",
    "    \n",
    "    def __mul__(self, another_complex):\n",
    "        x = self.real*another_complex.real - self.imaginary*another_complex.imaginary\n",
    "        y = self.imaginary*another_complex.real + self.real*another_complex.imaginary\n",
    "        return Complex_Number(x, y)\n",
    "    \n",
    "    def __str__(self):\n",
    "        return \"Complex number: {0} + i*{1}\".format(self.real, self.imaginary)       "
   ]
  },
  {
   "cell_type": "code",
   "execution_count": 19,
   "metadata": {},
   "outputs": [
    {
     "name": "stdout",
     "output_type": "stream",
     "text": [
      "Complex number: 0 + i*101\n"
     ]
    }
   ],
   "source": [
    "a = Complex_Number(10,1)\n",
    "b = Complex_Number(1, 10)\n",
    "print(a * b)"
   ]
  },
  {
   "cell_type": "markdown",
   "metadata": {},
   "source": [
    "### 7. Декораторы "
   ]
  },
  {
   "cell_type": "markdown",
   "metadata": {},
   "source": [
    "Декоратор-таймер и кэширующий декоратор. Общий принцип работы декораторов - навешивание какой-то дополнительной логики к выполнению декорируемой функции.\n",
    "Таймер печатает время выполнения функции, засекая показания системного времени до и после выполнения основной функции.\n",
    "Кэширующий декоратор содержит сет результатов работы функции со всеми ранее использованными аргументами, и возвращает результат из этого сета если он уже был ранее посчитан вместо вызова функции."
   ]
  },
  {
   "cell_type": "code",
   "execution_count": 20,
   "metadata": {},
   "outputs": [],
   "source": [
    "def timer(f):\n",
    "    import time\n",
    "    def tmp(*args, **kwargs):\n",
    "        t = time.time()\n",
    "        res = f(*args, **kwargs)\n",
    "        print(\"Время выполнения функции %s: %f\" % (str(f), (time.time()-t)))\n",
    "        return res\n",
    "\n",
    "    return tmp\n",
    "\n",
    "def memoized(f):\n",
    "    memory = {}\n",
    "    \n",
    "    def wrapper(*args, **kwargs):\n",
    "        key = (tuple(args), hash(tuple(sorted(kwargs.items()))))\n",
    "        if not key in memory:\n",
    "            memory[key] = f(*args, **kwargs)\n",
    "        return memory[key]\n",
    "    \n",
    "    return wrapper"
   ]
  },
  {
   "cell_type": "code",
   "execution_count": 21,
   "metadata": {},
   "outputs": [],
   "source": [
    "@memoized\n",
    "@timer\n",
    "def fib(n):\n",
    "    if n == 0 or n == 1:\n",
    "        return 1\n",
    "    else:\n",
    "        return fib(n-1) + fib(n-2)"
   ]
  },
  {
   "cell_type": "markdown",
   "metadata": {},
   "source": [
    "Ниже видно, что при подсчете факториала 30 в первый раз вызываются функции для подсчета всех факториалов от 0 до 30.\n",
    "Декоратор подсчета времени вызывается каждый раз при вызове функции с новым для декоратора memorized аргументом."
   ]
  },
  {
   "cell_type": "code",
   "execution_count": 22,
   "metadata": {
    "scrolled": true
   },
   "outputs": [
    {
     "name": "stdout",
     "output_type": "stream",
     "text": [
      "Время выполнения функции <function fib at 0x000000000561B7B8>: 0.000000\n",
      "Время выполнения функции <function fib at 0x000000000561B7B8>: 0.000000\n",
      "Время выполнения функции <function fib at 0x000000000561B7B8>: 0.000000\n",
      "Время выполнения функции <function fib at 0x000000000561B7B8>: 0.000000\n",
      "Время выполнения функции <function fib at 0x000000000561B7B8>: 0.000000\n",
      "Время выполнения функции <function fib at 0x000000000561B7B8>: 0.000000\n",
      "Время выполнения функции <function fib at 0x000000000561B7B8>: 0.004000\n",
      "Время выполнения функции <function fib at 0x000000000561B7B8>: 0.005001\n",
      "Время выполнения функции <function fib at 0x000000000561B7B8>: 0.005001\n",
      "Время выполнения функции <function fib at 0x000000000561B7B8>: 0.005001\n",
      "Время выполнения функции <function fib at 0x000000000561B7B8>: 0.005001\n",
      "Время выполнения функции <function fib at 0x000000000561B7B8>: 0.005001\n",
      "Время выполнения функции <function fib at 0x000000000561B7B8>: 0.005001\n",
      "Время выполнения функции <function fib at 0x000000000561B7B8>: 0.005001\n",
      "Время выполнения функции <function fib at 0x000000000561B7B8>: 0.005001\n",
      "Время выполнения функции <function fib at 0x000000000561B7B8>: 0.005001\n",
      "Время выполнения функции <function fib at 0x000000000561B7B8>: 0.005001\n",
      "Время выполнения функции <function fib at 0x000000000561B7B8>: 0.005001\n",
      "Время выполнения функции <function fib at 0x000000000561B7B8>: 0.005001\n",
      "Время выполнения функции <function fib at 0x000000000561B7B8>: 0.005001\n",
      "Время выполнения функции <function fib at 0x000000000561B7B8>: 0.005001\n",
      "Время выполнения функции <function fib at 0x000000000561B7B8>: 0.005001\n",
      "Время выполнения функции <function fib at 0x000000000561B7B8>: 0.005001\n",
      "Время выполнения функции <function fib at 0x000000000561B7B8>: 0.005001\n",
      "Время выполнения функции <function fib at 0x000000000561B7B8>: 0.005001\n",
      "Время выполнения функции <function fib at 0x000000000561B7B8>: 0.005001\n",
      "Время выполнения функции <function fib at 0x000000000561B7B8>: 0.005001\n",
      "Время выполнения функции <function fib at 0x000000000561B7B8>: 0.005001\n",
      "Время выполнения функции <function fib at 0x000000000561B7B8>: 0.005001\n",
      "Время выполнения функции <function fib at 0x000000000561B7B8>: 0.005001\n",
      "Время выполнения функции <function fib at 0x000000000561B7B8>: 0.005001\n"
     ]
    },
    {
     "data": {
      "text/plain": [
       "1346269"
      ]
     },
     "execution_count": 22,
     "metadata": {},
     "output_type": "execute_result"
    }
   ],
   "source": [
    "fib(30)"
   ]
  },
  {
   "cell_type": "markdown",
   "metadata": {},
   "source": [
    "Считая факториал 30 во второй раз, получим уже посчитанное значение, причем, так как обернутая в memorized функция не вызывается, декоратор подсчета времени не отрабатывает."
   ]
  },
  {
   "cell_type": "code",
   "execution_count": 23,
   "metadata": {
    "scrolled": true
   },
   "outputs": [
    {
     "data": {
      "text/plain": [
       "1346269"
      ]
     },
     "execution_count": 23,
     "metadata": {},
     "output_type": "execute_result"
    }
   ],
   "source": [
    "fib(30)"
   ]
  },
  {
   "cell_type": "markdown",
   "metadata": {},
   "source": [
    "Попробуем изменить порядок декорирования функции."
   ]
  },
  {
   "cell_type": "code",
   "execution_count": 24,
   "metadata": {},
   "outputs": [],
   "source": [
    "@timer\n",
    "@memoized\n",
    "def fib(n):\n",
    "    if n == 0 or n == 1:\n",
    "        return 1\n",
    "    else:\n",
    "        return fib(n-1) + fib(n-2)"
   ]
  },
  {
   "cell_type": "markdown",
   "metadata": {},
   "source": [
    "Количество напечатанных строчек со временем работы увеличилось, т. к. теперь обернутый в memorized fib(n) может вызваться максимум 2 раза, и время будет считаться для двух вызовов"
   ]
  },
  {
   "cell_type": "code",
   "execution_count": 25,
   "metadata": {
    "scrolled": true
   },
   "outputs": [
    {
     "name": "stdout",
     "output_type": "stream",
     "text": [
      "Время выполнения функции <function memoized.<locals>.wrapper at 0x000000000561BEA0>: 0.000000\n",
      "Время выполнения функции <function memoized.<locals>.wrapper at 0x000000000561BEA0>: 0.000000\n",
      "Время выполнения функции <function memoized.<locals>.wrapper at 0x000000000561BEA0>: 0.000000\n",
      "Время выполнения функции <function memoized.<locals>.wrapper at 0x000000000561BEA0>: 0.000000\n",
      "Время выполнения функции <function memoized.<locals>.wrapper at 0x000000000561BEA0>: 0.000000\n",
      "Время выполнения функции <function memoized.<locals>.wrapper at 0x000000000561BEA0>: 0.000000\n",
      "Время выполнения функции <function memoized.<locals>.wrapper at 0x000000000561BEA0>: 0.000000\n",
      "Время выполнения функции <function memoized.<locals>.wrapper at 0x000000000561BEA0>: 0.000000\n",
      "Время выполнения функции <function memoized.<locals>.wrapper at 0x000000000561BEA0>: 0.000000\n",
      "Время выполнения функции <function memoized.<locals>.wrapper at 0x000000000561BEA0>: 0.000000\n",
      "Время выполнения функции <function memoized.<locals>.wrapper at 0x000000000561BEA0>: 0.000000\n",
      "Время выполнения функции <function memoized.<locals>.wrapper at 0x000000000561BEA0>: 0.000000\n",
      "Время выполнения функции <function memoized.<locals>.wrapper at 0x000000000561BEA0>: 0.000000\n",
      "Время выполнения функции <function memoized.<locals>.wrapper at 0x000000000561BEA0>: 0.000000\n",
      "Время выполнения функции <function memoized.<locals>.wrapper at 0x000000000561BEA0>: 0.000000\n",
      "Время выполнения функции <function memoized.<locals>.wrapper at 0x000000000561BEA0>: 0.000000\n",
      "Время выполнения функции <function memoized.<locals>.wrapper at 0x000000000561BEA0>: 0.000000\n",
      "Время выполнения функции <function memoized.<locals>.wrapper at 0x000000000561BEA0>: 0.000000\n",
      "Время выполнения функции <function memoized.<locals>.wrapper at 0x000000000561BEA0>: 0.000000\n",
      "Время выполнения функции <function memoized.<locals>.wrapper at 0x000000000561BEA0>: 0.000000\n",
      "Время выполнения функции <function memoized.<locals>.wrapper at 0x000000000561BEA0>: 0.001000\n",
      "Время выполнения функции <function memoized.<locals>.wrapper at 0x000000000561BEA0>: 0.000000\n",
      "Время выполнения функции <function memoized.<locals>.wrapper at 0x000000000561BEA0>: 0.001000\n",
      "Время выполнения функции <function memoized.<locals>.wrapper at 0x000000000561BEA0>: 0.000000\n",
      "Время выполнения функции <function memoized.<locals>.wrapper at 0x000000000561BEA0>: 0.001000\n",
      "Время выполнения функции <function memoized.<locals>.wrapper at 0x000000000561BEA0>: 0.000000\n",
      "Время выполнения функции <function memoized.<locals>.wrapper at 0x000000000561BEA0>: 0.001000\n",
      "Время выполнения функции <function memoized.<locals>.wrapper at 0x000000000561BEA0>: 0.000000\n",
      "Время выполнения функции <function memoized.<locals>.wrapper at 0x000000000561BEA0>: 0.001000\n",
      "Время выполнения функции <function memoized.<locals>.wrapper at 0x000000000561BEA0>: 0.000000\n",
      "Время выполнения функции <function memoized.<locals>.wrapper at 0x000000000561BEA0>: 0.001000\n",
      "Время выполнения функции <function memoized.<locals>.wrapper at 0x000000000561BEA0>: 0.000000\n",
      "Время выполнения функции <function memoized.<locals>.wrapper at 0x000000000561BEA0>: 0.001000\n",
      "Время выполнения функции <function memoized.<locals>.wrapper at 0x000000000561BEA0>: 0.000000\n",
      "Время выполнения функции <function memoized.<locals>.wrapper at 0x000000000561BEA0>: 0.001000\n",
      "Время выполнения функции <function memoized.<locals>.wrapper at 0x000000000561BEA0>: 0.000000\n",
      "Время выполнения функции <function memoized.<locals>.wrapper at 0x000000000561BEA0>: 0.001000\n",
      "Время выполнения функции <function memoized.<locals>.wrapper at 0x000000000561BEA0>: 0.000000\n",
      "Время выполнения функции <function memoized.<locals>.wrapper at 0x000000000561BEA0>: 0.001000\n",
      "Время выполнения функции <function memoized.<locals>.wrapper at 0x000000000561BEA0>: 0.000000\n",
      "Время выполнения функции <function memoized.<locals>.wrapper at 0x000000000561BEA0>: 0.001000\n",
      "Время выполнения функции <function memoized.<locals>.wrapper at 0x000000000561BEA0>: 0.000000\n",
      "Время выполнения функции <function memoized.<locals>.wrapper at 0x000000000561BEA0>: 0.001000\n",
      "Время выполнения функции <function memoized.<locals>.wrapper at 0x000000000561BEA0>: 0.000000\n",
      "Время выполнения функции <function memoized.<locals>.wrapper at 0x000000000561BEA0>: 0.001000\n",
      "Время выполнения функции <function memoized.<locals>.wrapper at 0x000000000561BEA0>: 0.000000\n",
      "Время выполнения функции <function memoized.<locals>.wrapper at 0x000000000561BEA0>: 0.001000\n",
      "Время выполнения функции <function memoized.<locals>.wrapper at 0x000000000561BEA0>: 0.000000\n",
      "Время выполнения функции <function memoized.<locals>.wrapper at 0x000000000561BEA0>: 0.001000\n",
      "Время выполнения функции <function memoized.<locals>.wrapper at 0x000000000561BEA0>: 0.000000\n",
      "Время выполнения функции <function memoized.<locals>.wrapper at 0x000000000561BEA0>: 0.001000\n",
      "Время выполнения функции <function memoized.<locals>.wrapper at 0x000000000561BEA0>: 0.000000\n",
      "Время выполнения функции <function memoized.<locals>.wrapper at 0x000000000561BEA0>: 0.001000\n",
      "Время выполнения функции <function memoized.<locals>.wrapper at 0x000000000561BEA0>: 0.000000\n",
      "Время выполнения функции <function memoized.<locals>.wrapper at 0x000000000561BEA0>: 0.002000\n",
      "Время выполнения функции <function memoized.<locals>.wrapper at 0x000000000561BEA0>: 0.000000\n",
      "Время выполнения функции <function memoized.<locals>.wrapper at 0x000000000561BEA0>: 0.002000\n",
      "Время выполнения функции <function memoized.<locals>.wrapper at 0x000000000561BEA0>: 0.000000\n",
      "Время выполнения функции <function memoized.<locals>.wrapper at 0x000000000561BEA0>: 0.002000\n"
     ]
    },
    {
     "data": {
      "text/plain": [
       "1346269"
      ]
     },
     "execution_count": 25,
     "metadata": {},
     "output_type": "execute_result"
    }
   ],
   "source": [
    "fib(30)"
   ]
  },
  {
   "cell_type": "code",
   "execution_count": 26,
   "metadata": {
    "scrolled": true
   },
   "outputs": [
    {
     "name": "stdout",
     "output_type": "stream",
     "text": [
      "Время выполнения функции <function memoized.<locals>.wrapper at 0x000000000561BEA0>: 0.000000\n"
     ]
    },
    {
     "data": {
      "text/plain": [
       "1346269"
      ]
     },
     "execution_count": 26,
     "metadata": {},
     "output_type": "execute_result"
    }
   ],
   "source": [
    "fib(30)"
   ]
  },
  {
   "cell_type": "markdown",
   "metadata": {},
   "source": [
    "### 8. self.x и @property"
   ]
  },
  {
   "cell_type": "code",
   "execution_count": 27,
   "metadata": {},
   "outputs": [],
   "source": [
    "class MyClass(object):\n",
    "    def __init__(self):\n",
    "        self.x = 0\n",
    "        self.y = 1\n",
    "        \n",
    "    @property    \n",
    "    def prop(self):\n",
    "        return 2"
   ]
  },
  {
   "cell_type": "code",
   "execution_count": 28,
   "metadata": {},
   "outputs": [],
   "source": [
    "a = MyClass()"
   ]
  },
  {
   "cell_type": "code",
   "execution_count": 29,
   "metadata": {},
   "outputs": [
    {
     "name": "stdout",
     "output_type": "stream",
     "text": [
      "a.x = 0, a.y = 1, a.prop = 2\n"
     ]
    }
   ],
   "source": [
    "print(\"a.x = {0}, a.y = {1}, a.prop = {2}\".format(a.x, a.y, a.prop))"
   ]
  },
  {
   "cell_type": "code",
   "execution_count": 30,
   "metadata": {},
   "outputs": [],
   "source": [
    "a.x = 5\n",
    "a.y = 10"
   ]
  },
  {
   "cell_type": "code",
   "execution_count": 31,
   "metadata": {},
   "outputs": [
    {
     "ename": "AttributeError",
     "evalue": "can't set attribute",
     "output_type": "error",
     "traceback": [
      "\u001b[1;31m---------------------------------------------------------------------------\u001b[0m",
      "\u001b[1;31mAttributeError\u001b[0m                            Traceback (most recent call last)",
      "\u001b[1;32m<ipython-input-31-41e0b550692d>\u001b[0m in \u001b[0;36m<module>\u001b[1;34m()\u001b[0m\n\u001b[1;32m----> 1\u001b[1;33m \u001b[0ma\u001b[0m\u001b[1;33m.\u001b[0m\u001b[0mprop\u001b[0m \u001b[1;33m=\u001b[0m \u001b[1;36m20\u001b[0m\u001b[1;33m\u001b[0m\u001b[0m\n\u001b[0m",
      "\u001b[1;31mAttributeError\u001b[0m: can't set attribute"
     ]
    }
   ],
   "source": [
    "a.prop = 20"
   ]
  },
  {
   "cell_type": "markdown",
   "metadata": {},
   "source": [
    "Отличие в обьявлении поля класса x через self.x от задания атрибута класса через @property заключается в том, что в первом случае создается поле с доступом на чтение и изменение, а во втором случае только на чтение. Изменение артрибута, заданного через @property возможно только косвенно, через изменение параметров класса, от которых зависит @property, например: "
   ]
  },
  {
   "cell_type": "code",
   "execution_count": 32,
   "metadata": {},
   "outputs": [],
   "source": [
    "class Person(object):\n",
    "    def __init__(self, first_name, last_name):\n",
    "        self.first_name = first_name\n",
    "        self.last_name = last_name\n",
    "    \n",
    "    @property\n",
    "    def full_name(self):\n",
    "        return \"%s %s\" % (self.first_name, self.last_name)"
   ]
  },
  {
   "cell_type": "code",
   "execution_count": 33,
   "metadata": {},
   "outputs": [
    {
     "name": "stdout",
     "output_type": "stream",
     "text": [
      "Vladimir Putin\n"
     ]
    }
   ],
   "source": [
    "person = Person(\"Vladimir\", \"Putin\")\n",
    "print(person.full_name)"
   ]
  },
  {
   "cell_type": "code",
   "execution_count": 34,
   "metadata": {},
   "outputs": [
    {
     "name": "stdout",
     "output_type": "stream",
     "text": [
      "Dmitry Medvedev\n"
     ]
    }
   ],
   "source": [
    "person.first_name = \"Dmitry\"\n",
    "person.last_name = \"Medvedev\"\n",
    "print(person.full_name)"
   ]
  },
  {
   "cell_type": "markdown",
   "metadata": {},
   "source": [
    "### 9. Добавлены сеттеры и геттеры "
   ]
  },
  {
   "cell_type": "code",
   "execution_count": 35,
   "metadata": {},
   "outputs": [],
   "source": [
    "class Complex_Number(object):\n",
    "    def __init__(self, real, imaginary):\n",
    "        self.real = real\n",
    "        self.imaginary = imaginary\n",
    "        \n",
    "    def __add__(self, another_complex):\n",
    "        return Complex_Number(self.real + another_complex.real, self.imaginary + another_complex.imaginary)\n",
    "    \n",
    "    def __mul__(self, another_complex):\n",
    "        x = self.real*another_complex.real - self.imaginary*another_complex.imaginary\n",
    "        y = self.imaginary*another_complex.real + self.real*another_complex.imaginary\n",
    "        return Complex_Number(x, y)\n",
    "    \n",
    "    def __str__(self):\n",
    "        return \"Complex number: {0} + i*{1}\".format(self.real, self.imaginary)\n",
    "    \n",
    "    @property\n",
    "    def real(self):\n",
    "        return self.__real\n",
    "    \n",
    "    @property\n",
    "    def imaginary(self):\n",
    "        return self.__imaginary\n",
    "    \n",
    "    @real.setter\n",
    "    def real(self, value):\n",
    "        if isinstance(value, int):\n",
    "            self.__real = float(value)\n",
    "        elif isinstance(value, float):\n",
    "            self.__real = int(value)\n",
    "        else:\n",
    "            raise TypeError(\"wrong type for complex number field\")  \n",
    "    \n",
    "    @real.setter\n",
    "    def imaginary(self, value):\n",
    "        if isinstance(value, int):\n",
    "            self.__imaginary = float(value)\n",
    "        elif isinstance(value, float):\n",
    "            self.__imaginary = int(value)\n",
    "        else:\n",
    "            raise TypeError(\"wrong type for complex number field\")\n",
    "    "
   ]
  },
  {
   "cell_type": "code",
   "execution_count": 36,
   "metadata": {},
   "outputs": [
    {
     "name": "stdout",
     "output_type": "stream",
     "text": [
      "Complex number: 10.0 + i*10.0\n"
     ]
    }
   ],
   "source": [
    "complex_number_1 = Complex_Number(10, 15.0)\n",
    "print(complex_number_1)"
   ]
  },
  {
   "cell_type": "code",
   "execution_count": 37,
   "metadata": {},
   "outputs": [
    {
     "ename": "TypeError",
     "evalue": "wrong type for complex number field",
     "output_type": "error",
     "traceback": [
      "\u001b[1;31m---------------------------------------------------------------------------\u001b[0m",
      "\u001b[1;31mTypeError\u001b[0m                                 Traceback (most recent call last)",
      "\u001b[1;32m<ipython-input-37-8ccdbdfba931>\u001b[0m in \u001b[0;36m<module>\u001b[1;34m()\u001b[0m\n\u001b[1;32m----> 1\u001b[1;33m \u001b[0mcomplex_number_1\u001b[0m\u001b[1;33m.\u001b[0m\u001b[0mreal\u001b[0m \u001b[1;33m=\u001b[0m \u001b[1;34m\"a\"\u001b[0m\u001b[1;33m\u001b[0m\u001b[0m\n\u001b[0m\u001b[0;32m      2\u001b[0m \u001b[0mprint\u001b[0m\u001b[1;33m(\u001b[0m\u001b[0mcomplex_number_1\u001b[0m\u001b[1;33m)\u001b[0m\u001b[1;33m\u001b[0m\u001b[0m\n",
      "\u001b[1;32m<ipython-input-35-87556e686598>\u001b[0m in \u001b[0;36mreal\u001b[1;34m(self, value)\u001b[0m\n\u001b[0;32m     30\u001b[0m             \u001b[0mself\u001b[0m\u001b[1;33m.\u001b[0m\u001b[0m__real\u001b[0m \u001b[1;33m=\u001b[0m \u001b[0mint\u001b[0m\u001b[1;33m(\u001b[0m\u001b[0mvalue\u001b[0m\u001b[1;33m)\u001b[0m\u001b[1;33m\u001b[0m\u001b[0m\n\u001b[0;32m     31\u001b[0m         \u001b[1;32melse\u001b[0m\u001b[1;33m:\u001b[0m\u001b[1;33m\u001b[0m\u001b[0m\n\u001b[1;32m---> 32\u001b[1;33m             \u001b[1;32mraise\u001b[0m \u001b[0mTypeError\u001b[0m\u001b[1;33m(\u001b[0m\u001b[1;34m\"wrong type for complex number field\"\u001b[0m\u001b[1;33m)\u001b[0m\u001b[1;33m\u001b[0m\u001b[0m\n\u001b[0m\u001b[0;32m     33\u001b[0m \u001b[1;33m\u001b[0m\u001b[0m\n\u001b[0;32m     34\u001b[0m     \u001b[1;33m@\u001b[0m\u001b[0mreal\u001b[0m\u001b[1;33m.\u001b[0m\u001b[0msetter\u001b[0m\u001b[1;33m\u001b[0m\u001b[0m\n",
      "\u001b[1;31mTypeError\u001b[0m: wrong type for complex number field"
     ]
    }
   ],
   "source": [
    "complex_number_1.real = \"a\"\n",
    "print(complex_number_1)"
   ]
  },
  {
   "cell_type": "markdown",
   "metadata": {},
   "source": [
    "# 2. Requests/urlib + BeautifulSoup"
   ]
  },
  {
   "cell_type": "code",
   "execution_count": 38,
   "metadata": {},
   "outputs": [],
   "source": [
    "from urllib.request import urlopen\n",
    "from bs4 import BeautifulSoup"
   ]
  },
  {
   "cell_type": "code",
   "execution_count": 39,
   "metadata": {},
   "outputs": [],
   "source": [
    "URL = \"https://www.bbc.com/news/world-europe-46425777\"\n",
    "page = urlopen(URL)\n",
    "soup = BeautifulSoup(page, \"html.parser\")"
   ]
  },
  {
   "cell_type": "code",
   "execution_count": 40,
   "metadata": {},
   "outputs": [
    {
     "name": "stdout",
     "output_type": "stream",
     "text": [
      "Does crisis beckon in the Black Sea? Could Russia and Nato even come to blows?\n",
      "\n",
      "That - at least for now - is probably unlikely. But the recent seizure of two Ukrainian gunboats and a tug in the approaches to the Kerch Strait, by vessels of the Russian Border Guard, has inevitably brought security in the Black Sea to the forefront of Nato's agenda at their meeting in Brussels on Tuesday.\n",
      "\n",
      "The Black Sea has long had strategic significance.\n",
      "\n",
      "It was, after all, the theatre for a major conflict between the Western powers France and Great Britain and Imperial Russia in the mid-19th Century. During the Cold War, it was the Soviet Union's shortest route to Iran and the Middle East. Turkey - a Nato ally - stood astride the Black Sea's southern exit to the Mediterranean, facing Russia across the Black Sea to its the north.\n",
      "\n",
      "For the Russians this was always seen as their \"back yard\". And the end of the Cold War and the break-up of the Soviet Union greatly complicated relationships.\n",
      "\n",
      "Russia has engaged in armed conflict against two independent states that were formerly part of the Soviet Union - Georgia and Ukraine. It has annexed Ukrainian territory - Crimea - and continues to support armed rebels in eastern Ukraine. And it backs separatist enclaves that have broken away from the Georgian government.\n",
      "\n",
      "Russia is alarmed at what it sees as Nato's growing incursion into the region. Three nearby states, Turkey, Romania and Bulgaria, are members of the alliance. Nato conducts air policing operations out of Romania, helping them to defend their territory by intercepting Russian jets approaching their air space.\n",
      "\n",
      "Similarly, Nato warships have stepped up patrols in the Black Sea. Romania is hosting a US-built ballistic missile defence site. And Nato - along with individual Alliance members - is developing military ties with its partner countries Georgia and Ukraine.\n",
      "\n",
      "Viewed from the Nato headquarters in Brussels, this is simply helping to provide stability and a measure of deterrence in the face of a more assertive Russia. Ukraine, for example, is eager to ensure that the Sea of Azov does not become a Russian-controlled lake. And Nato as a whole is intent on challenging Russian dominance of the Black Sea itself.\n",
      "\n",
      "However, viewed from Moscow, this is all part of what they see as Nato's broadening land grab; its desire to push the borders of the Alliance ever closer to Russia. And given that this is an area of historic significance for successive Russian regimes, the stakes are very high indeed.\n",
      "\n",
      "Nato has a problem.\n",
      "\n",
      "On the one hand, its member governments' rhetoric calls for stability and de-escalation while they take steps - such as military exercises and economic sanctions - that the Russians are bound to see as provocative. Judging the balance between deterrence and provocation is not easy, especially when pressure alone is often unlikely to change Russia's behaviour.\n",
      "\n",
      "Take the Ukraine crisis for example. Sanctions show no sign of changing President Putin's mind, nor are they likely to secure the return of Crimea any time soon. Russia appears willing to accept the pain of sanctions because its interests in the \"near-abroad\" matter more.\n",
      "\n",
      "This calculus makes Nato's response to the latest crisis between Russia and Ukraine more difficult. Analysts have called for a variety of measures, from the deployment of Nato vessels in the Sea of Azov - which would probably be illegal since it is an inland sea not an international waterway, and impractical because Russia could easily seal the Kerch Strait; to stepped-up economic sanctions; or even efforts to compensate Ukraine for the economic losses it is suffering from what is effectively a semi-blockade of its ports.\n",
      "\n",
      "There will be those in Ukraine and among its more strident supporters in the US who see this as adding to the case for stepping up arms supplies to Kiev. While Nato countries do lots of training for the Ukrainian military, they have largely baulked at providing lethal weaponry. The Trump administration has supplied a limited number of Javelin anti-tank weapons to redress a significant defensive shortcoming in Ukraine's ground forces. But some experts have suggested, for example, that Kiev should be given shore-based anti-shipping missiles to help even up the naval balance in these enclosed waters.\n",
      "\n",
      "There is no perfect solution to this strategic stand-off separate from a more fundamental recasting of the relationship between Russia and the West. The immediate task is to ensure that things do not get worse.\n",
      "\n",
      "And this raises another fundamental problem for Nato. Warfare is changing.\n",
      "\n",
      "Indeed, the once-clear boundary between war and peace is dissolving. We hear a lot about military demonstrations, exercises, cyber attacks and information operations. Traditionally, these have been seen as a prelude to conflict.\n",
      "\n",
      "But what if they are actually the war itself, as one senior US commander recently asked?\n",
      "\n",
      "In other words, you no longer have to risk full-scale warfare; you just use a variety of tools to apply pressure to achieve the same ends. In this light, Russia is already having some success against Ukraine.\n",
      "\n",
      "It has seized Crimea and shows no sign of relinquishing it.  It is exacting an economic cost from Kiev by interfering with shipping in the Sea of Azov.\n",
      "\n",
      "It has, as it might argue, weakened the Ukrainian president at a time when he faces a difficult re-election campaign, by seizing three vessels and their crews. All at a price that Moscow seems willing to pay.\n",
      "\n",
      "This, then, is Nato's dilemma: how does it reassure friends and allies in the Black Sea region without simply making matters worse?\n",
      "\n",
      "\n"
     ]
    }
   ],
   "source": [
    "article_title = soup.find(\"p\", attrs={\"class\": \"story-body__introduction\"})\n",
    "article_body = soup.findAll(\"p\", attrs={\"class\": None, \"style\": None})\n",
    "\n",
    "article = article_title.text.strip() + \"\\n\\n\" \n",
    "\n",
    "for paragraph in article_body:\n",
    "    article += (paragraph.text.strip() + \"\\n\\n\")\n",
    "    \n",
    "print(article)"
   ]
  },
  {
   "cell_type": "markdown",
   "metadata": {},
   "source": [
    "# 3. Numpy "
   ]
  },
  {
   "cell_type": "markdown",
   "metadata": {},
   "source": [
    "### 1. Разные способы индексации "
   ]
  },
  {
   "cell_type": "code",
   "execution_count": 41,
   "metadata": {},
   "outputs": [],
   "source": [
    "import numpy as np"
   ]
  },
  {
   "cell_type": "code",
   "execution_count": 42,
   "metadata": {},
   "outputs": [
    {
     "name": "stdout",
     "output_type": "stream",
     "text": [
      "[[[0 0]\n",
      "  [0 0]\n",
      "  [0 0]\n",
      "  [0 0]]\n",
      "\n",
      " [[0 0]\n",
      "  [0 0]\n",
      "  [0 0]\n",
      "  [0 0]]\n",
      "\n",
      " [[0 0]\n",
      "  [0 0]\n",
      "  [0 0]\n",
      "  [0 0]]]\n"
     ]
    }
   ],
   "source": [
    "zeros = np.zeros((3, 4, 2), dtype=\"int\")\n",
    "print(zeros)"
   ]
  },
  {
   "cell_type": "code",
   "execution_count": 43,
   "metadata": {},
   "outputs": [],
   "source": [
    "zeros[0,:,:] = np.array([[1, 2],[3, 4],[5, 6],[7, 8]])\n",
    "zeros[1,:,:] = np.array([[10, 20],[30, 40],[50, 60],[70, 80]])\n",
    "zeros[:,3,1] = np.array([5, 5, 5])"
   ]
  },
  {
   "cell_type": "code",
   "execution_count": 44,
   "metadata": {
    "scrolled": true
   },
   "outputs": [
    {
     "data": {
      "text/plain": [
       "array([[[ 1,  2],\n",
       "        [ 3,  4],\n",
       "        [ 5,  6],\n",
       "        [ 7,  5]],\n",
       "\n",
       "       [[10, 20],\n",
       "        [30, 40],\n",
       "        [50, 60],\n",
       "        [70,  5]],\n",
       "\n",
       "       [[ 0,  0],\n",
       "        [ 0,  0],\n",
       "        [ 0,  0],\n",
       "        [ 0,  5]]])"
      ]
     },
     "execution_count": 44,
     "metadata": {},
     "output_type": "execute_result"
    }
   ],
   "source": [
    "zeros"
   ]
  },
  {
   "cell_type": "code",
   "execution_count": 45,
   "metadata": {},
   "outputs": [
    {
     "data": {
      "text/plain": [
       "array([[[ 1,  2],\n",
       "        [ 3,  4],\n",
       "        [ 5,  6],\n",
       "        [ 7,  5]],\n",
       "\n",
       "       [[10, 20],\n",
       "        [30, 40],\n",
       "        [50, 60],\n",
       "        [70,  5]]])"
      ]
     },
     "execution_count": 45,
     "metadata": {},
     "output_type": "execute_result"
    }
   ],
   "source": [
    "zeros[0:2,:,:]"
   ]
  },
  {
   "cell_type": "code",
   "execution_count": 46,
   "metadata": {},
   "outputs": [
    {
     "data": {
      "text/plain": [
       "array([[1]])"
      ]
     },
     "execution_count": 46,
     "metadata": {},
     "output_type": "execute_result"
    }
   ],
   "source": [
    "zeros[:1,:1,0]"
   ]
  },
  {
   "cell_type": "code",
   "execution_count": 47,
   "metadata": {},
   "outputs": [
    {
     "data": {
      "text/plain": [
       "array([ 1, 40])"
      ]
     },
     "execution_count": 47,
     "metadata": {},
     "output_type": "execute_result"
    }
   ],
   "source": [
    "zeros[(0, 1),(0, 1),(0, 1)] "
   ]
  },
  {
   "cell_type": "code",
   "execution_count": 48,
   "metadata": {},
   "outputs": [
    {
     "data": {
      "text/plain": [
       "array([[ 1,  2],\n",
       "       [30, 40]])"
      ]
     },
     "execution_count": 48,
     "metadata": {},
     "output_type": "execute_result"
    }
   ],
   "source": [
    "zeros[(0, 1),(0, 1)] "
   ]
  },
  {
   "cell_type": "code",
   "execution_count": 49,
   "metadata": {},
   "outputs": [
    {
     "data": {
      "text/plain": [
       "5"
      ]
     },
     "execution_count": 49,
     "metadata": {},
     "output_type": "execute_result"
    }
   ],
   "source": [
    "zeros[2][3][1]"
   ]
  },
  {
   "cell_type": "code",
   "execution_count": 50,
   "metadata": {},
   "outputs": [
    {
     "data": {
      "text/plain": [
       "array([3, 6, 9])"
      ]
     },
     "execution_count": 50,
     "metadata": {},
     "output_type": "execute_result"
    }
   ],
   "source": [
    "import numpy as np\n",
    "matrix = np.array([[1, 2, 3], [4, 5, 6], [7, 8, 9]])\n",
    "mask = np.array([[0, 0, 1],[0, 0, 1], [0, 0, 1]], dtype=\"bool\")\n",
    "matrix[mask]"
   ]
  },
  {
   "cell_type": "code",
   "execution_count": 58,
   "metadata": {},
   "outputs": [
    {
     "data": {
      "text/plain": [
       "array([[3, 2, 1],\n",
       "       [6, 5, 4],\n",
       "       [9, 8, 7]])"
      ]
     },
     "execution_count": 58,
     "metadata": {},
     "output_type": "execute_result"
    }
   ],
   "source": [
    "matrix[:,::-1]"
   ]
  },
  {
   "cell_type": "markdown",
   "metadata": {},
   "source": [
    "### 2. Сравнение производительности np.array и list"
   ]
  },
  {
   "cell_type": "code",
   "execution_count": 59,
   "metadata": {},
   "outputs": [],
   "source": [
    "a = [1.0]*10000\n",
    "b = [2.0]*10000\n",
    "a1 = np.array(a)\n",
    "b1 = np.array(b)"
   ]
  },
  {
   "cell_type": "code",
   "execution_count": 60,
   "metadata": {},
   "outputs": [
    {
     "name": "stdout",
     "output_type": "stream",
     "text": [
      "874 µs ± 45.8 µs per loop (mean ± std. dev. of 7 runs, 1000 loops each)\n"
     ]
    }
   ],
   "source": [
    "%%timeit\n",
    "c = [x * y for x, y in zip(a,b)]"
   ]
  },
  {
   "cell_type": "code",
   "execution_count": 61,
   "metadata": {},
   "outputs": [
    {
     "name": "stdout",
     "output_type": "stream",
     "text": [
      "9.35 µs ± 600 ns per loop (mean ± std. dev. of 7 runs, 100000 loops each)\n"
     ]
    }
   ],
   "source": [
    "%%timeit\n",
    "c = a1 * b1"
   ]
  },
  {
   "cell_type": "code",
   "execution_count": 62,
   "metadata": {},
   "outputs": [
    {
     "name": "stdout",
     "output_type": "stream",
     "text": [
      "3 ms ± 471 µs per loop (mean ± std. dev. of 7 runs, 100 loops each)\n"
     ]
    }
   ],
   "source": [
    "%%timeit\n",
    "c = [x * y for x, y in zip(a1, b1)]"
   ]
  },
  {
   "cell_type": "markdown",
   "metadata": {},
   "source": [
    "### 3. numpy.linspace()"
   ]
  },
  {
   "cell_type": "code",
   "execution_count": 63,
   "metadata": {},
   "outputs": [],
   "source": [
    "def linspace(start, stop, num=50):\n",
    "    step = (stop - start)/(num-1)\n",
    "    return [start + step*i for i in range(num)]"
   ]
  },
  {
   "cell_type": "code",
   "execution_count": 64,
   "metadata": {},
   "outputs": [
    {
     "name": "stdout",
     "output_type": "stream",
     "text": [
      "[0.0, 0.1, 0.2, 0.30000000000000004, 0.4, 0.5, 0.6000000000000001, 0.7000000000000001, 0.8, 0.9, 1.0]\n",
      "[0.  0.1 0.2 0.3 0.4 0.5 0.6 0.7 0.8 0.9 1. ]\n"
     ]
    }
   ],
   "source": [
    "print(linspace(0, 1, 11))\n",
    "print(np.linspace(0, 1, 11))"
   ]
  },
  {
   "cell_type": "code",
   "execution_count": 65,
   "metadata": {},
   "outputs": [
    {
     "name": "stdout",
     "output_type": "stream",
     "text": [
      "241 ms ± 40 ms per loop (mean ± std. dev. of 7 runs, 1 loop each)\n"
     ]
    }
   ],
   "source": [
    "%%timeit\n",
    "a = linspace(0, 1, 1000000)"
   ]
  },
  {
   "cell_type": "code",
   "execution_count": 66,
   "metadata": {},
   "outputs": [
    {
     "name": "stdout",
     "output_type": "stream",
     "text": [
      "10.2 ms ± 869 µs per loop (mean ± std. dev. of 7 runs, 1 loop each)\n"
     ]
    }
   ],
   "source": [
    "%%timeit\n",
    "b = np.linspace(0, 1, 1000000)"
   ]
  },
  {
   "cell_type": "markdown",
   "metadata": {},
   "source": [
    "\n",
    "Linspace в Numpy работает значительно быстрее"
   ]
  },
  {
   "cell_type": "markdown",
   "metadata": {},
   "source": [
    "# 4. Matplotlib "
   ]
  },
  {
   "cell_type": "markdown",
   "metadata": {},
   "source": [
    "### 1. %matplotlib inline"
   ]
  },
  {
   "cell_type": "markdown",
   "metadata": {},
   "source": [
    "%matplotlib inline это magic-функция IPython, которая настраивает корректную работу matplotlib с IPython. %matplotlib задает вывод команд отрисовки в отдельное окно, в то время как %matplotlib inline позволяет направить этот вывод в ячейку и отрисовывать и хранить график там."
   ]
  },
  {
   "cell_type": "markdown",
   "metadata": {},
   "source": [
    "### 2. График элементарной функции "
   ]
  },
  {
   "cell_type": "code",
   "execution_count": 67,
   "metadata": {},
   "outputs": [],
   "source": [
    "import numpy as np\n",
    "import math\n",
    "\n",
    "%matplotlib inline\n",
    "import matplotlib.pyplot as plt"
   ]
  },
  {
   "cell_type": "code",
   "execution_count": 68,
   "metadata": {},
   "outputs": [],
   "source": [
    "X = np.linspace(0, 6, 500)\n",
    "Y = [math.sin(x) for x in X]"
   ]
  },
  {
   "cell_type": "code",
   "execution_count": 69,
   "metadata": {},
   "outputs": [
    {
     "data": {
      "image/png": "[encoded data removed]",
      "text/plain": [
       "<Figure size 432x288 with 1 Axes>"
      ]
     },
     "metadata": {},
     "output_type": "display_data"
    }
   ],
   "source": [
    "plt.plot(X, Y);"
   ]
  },
  {
   "cell_type": "markdown",
   "metadata": {},
   "source": [
    "### 3. Несколько графиков "
   ]
  },
  {
   "cell_type": "code",
   "execution_count": 71,
   "metadata": {},
   "outputs": [
    {
     "name": "stdout",
     "output_type": "stream",
     "text": [
      "Populating the interactive namespace from numpy and matplotlib\n"
     ]
    }
   ],
   "source": [
    "import matplotlib.pylab as plt\n",
    "%pylab inline\n",
    "\n",
    "import matplotlib as mpl\n",
    "import warnings\n",
    "warnings.filterwarnings(\"ignore\")\n",
    "plt.rcParams['figure.figsize'] = 9, 7\n",
    "plt.rc('text', usetex=False)\n",
    "plt.rc('font', family='serif')\n",
    "plt.rc('font', weight='bold')\n",
    "plt.rc('xtick', labelsize=10) \n",
    "plt.rc('ytick', labelsize=10)\n",
    "# чтобы был русский шрифт\n",
    "from matplotlib import rc\n",
    "font = {'family': 'Verdana',\n",
    "        'weight': 'normal'}\n",
    "rc('font', **font)"
   ]
  },
  {
   "cell_type": "code",
   "execution_count": 72,
   "metadata": {},
   "outputs": [
    {
     "data": {
      "image/png": "[encoded data removed]",
      "text/plain": [
       "<Figure size 648x504 with 1 Axes>"
      ]
     },
     "metadata": {},
     "output_type": "display_data"
    }
   ],
   "source": [
    "X = np.linspace(0, 6, 500)\n",
    "Y = [math.sin(x) for x in X]\n",
    "Y1 = [0.01*x**3 for x in X]\n",
    "Y2 = [1/(x + 0.05) for x in X]\n",
    "plt.ylim(-1.2, 1.2)\n",
    "plt.plot(X, Y, label=\"$y = sin(x)$\")\n",
    "plt.plot(X, Y1, label=\"$y = 0.01*x^3$\")\n",
    "plt.plot(X, Y2, label=\"$y = \\\\frac{1}{x + 0.05}$\")\n",
    "plt.legend(loc=\"lower left\")\n",
    "plt.xlabel(\"$x$\")\n",
    "plt.ylabel(\"$y$\")\n",
    "plt.savefig('charts.png')\n",
    "plt.show()"
   ]
  },
  {
   "cell_type": "markdown",
   "metadata": {},
   "source": [
    "### 4. 4 системы координат "
   ]
  },
  {
   "cell_type": "code",
   "execution_count": 73,
   "metadata": {},
   "outputs": [
    {
     "data": {
      "text/plain": [
       "<matplotlib.legend.Legend at 0x92e23c8>"
      ]
     },
     "execution_count": 73,
     "metadata": {},
     "output_type": "execute_result"
    },
    {
     "data": {
      "image/png": "[encoded data removed]",
      "text/plain": [
       "<Figure size 1008x720 with 4 Axes>"
      ]
     },
     "metadata": {},
     "output_type": "display_data"
    }
   ],
   "source": [
    "plt.rcParams['figure.figsize'] = 14, 10\n",
    "\n",
    "X = np.linspace(0, 1, 500)\n",
    "\n",
    "Y1 = [x**2 for x in X]\n",
    "plt.subplot(221)\n",
    "plt.plot(X, Y1, label=\"$y = x^2$\")\n",
    "plt.legend()\n",
    "\n",
    "Y2 = [x**3 for x in X]\n",
    "plt.subplot(222)\n",
    "plt.plot(X, Y2, label=\"$y = x^3$\")\n",
    "plt.legend()\n",
    "\n",
    "Y3 = [math.exp(x) for x in X]\n",
    "plt.subplot(223)\n",
    "plt.plot(X, Y3, label=\"$y = e^x$\")\n",
    "plt.legend()\n",
    "\n",
    "Y4 = [math.log(x) if x > 0 else 0 for x in X]\n",
    "plt.subplot(224)\n",
    "plt.plot(X, Y4, label=\"$y = log(x)$\")\n",
    "plt.legend()\n",
    "\n",
    "plt.xlim(0, 1)\n",
    "plt.plot()\n",
    "plt.legend()"
   ]
  },
  {
   "cell_type": "markdown",
   "metadata": {},
   "source": [
    "### 5. Heatmap "
   ]
  },
  {
   "cell_type": "code",
   "execution_count": 74,
   "metadata": {},
   "outputs": [],
   "source": [
    "def f(x, y):\n",
    "    return 3*x*y + x - 2*y"
   ]
  },
  {
   "cell_type": "code",
   "execution_count": 75,
   "metadata": {},
   "outputs": [],
   "source": [
    "num = 20\n",
    "delta = 5/num\n",
    "X = np.linspace(0, 5, num)\n",
    "Y = np.linspace(0, 5, num)\n",
    "Z = np.empty([num, num], dtype=\"float\")\n",
    "for i in range(num):\n",
    "    for j in range(num):\n",
    "        x = i * delta\n",
    "        y = j * delta\n",
    "        Z[i, j] = f(x, y)"
   ]
  },
  {
   "cell_type": "code",
   "execution_count": 76,
   "metadata": {},
   "outputs": [
    {
     "data": {
      "image/png": "[encoded data removed]",
      "text/plain": [
       "<Figure size 360x360 with 1 Axes>"
      ]
     },
     "metadata": {},
     "output_type": "display_data"
    }
   ],
   "source": [
    "plt.rcParams['figure.figsize'] = 5, 5\n",
    "a = np.random.random((16, 16))\n",
    "plt.imshow(Z, cmap='hot', interpolation='nearest')\n",
    "plt.show()"
   ]
  },
  {
   "cell_type": "markdown",
   "metadata": {},
   "source": [
    "### 6. Трехмерный график "
   ]
  },
  {
   "cell_type": "code",
   "execution_count": 77,
   "metadata": {},
   "outputs": [
    {
     "data": {
      "image/png": "[encoded data removed]",
      "text/plain": [
       "<Figure size 720x720 with 1 Axes>"
      ]
     },
     "metadata": {},
     "output_type": "display_data"
    }
   ],
   "source": [
    "from mpl_toolkits.mplot3d import Axes3D\n",
    "\n",
    "fig = plt.figure(figsize = (10, 10))\n",
    "ax = fig.gca(projection = '3d')\n",
    "\n",
    "surf = ax.plot_surface(X, Y, Z)\n",
    "ax.set_xlabel('$x$')\n",
    "ax.set_ylabel('$y$')\n",
    "ax.set_zlabel('$f(x, y)$')\n",
    "plt.show()"
   ]
  },
  {
   "cell_type": "markdown",
   "metadata": {},
   "source": [
    "# 5. Все вместе + SciPy "
   ]
  },
  {
   "cell_type": "code",
   "execution_count": 245,
   "metadata": {},
   "outputs": [],
   "source": [
    "import scipy.optimize"
   ]
  },
  {
   "cell_type": "code",
   "execution_count": 246,
   "metadata": {},
   "outputs": [],
   "source": [
    "def f(x):\n",
    "    return x**3 + 2*(x**2) - 3*x + 2\n",
    "\n",
    "def f_predicted(x, a, b, c, d):\n",
    "    return a*x**3 + b*x**2 + c*x + d"
   ]
  },
  {
   "cell_type": "code",
   "execution_count": 247,
   "metadata": {},
   "outputs": [],
   "source": [
    "X = [np.random.normal(0, 1) for i in range(500)]\n",
    "X.sort()"
   ]
  },
  {
   "cell_type": "code",
   "execution_count": 248,
   "metadata": {},
   "outputs": [],
   "source": [
    "Y = list(map(f, X))\n",
    "dots= list(zip(X, Y))\n",
    "Y_noisy = [y + np.random.normal(0, 0.5) for y in Y]"
   ]
  },
  {
   "cell_type": "code",
   "execution_count": 265,
   "metadata": {},
   "outputs": [
    {
     "data": {
      "text/plain": [
       "<matplotlib.legend.Legend at 0x11526eb8>"
      ]
     },
     "execution_count": 265,
     "metadata": {},
     "output_type": "execute_result"
    },
    {
     "data": {
      "image/png": "[encoded data removed]",
      "text/plain": [
       "<Figure size 720x576 with 1 Axes>"
      ]
     },
     "metadata": {},
     "output_type": "display_data"
    }
   ],
   "source": [
    "plt.rcParams['figure.figsize'] = 10, 8\n",
    "plt.xlabel(\"$x$\")\n",
    "plt.ylabel(\"$y$\")\n",
    "\n",
    "plt.plot(X, Y_noisy, \"o\", color='grey', label='noisy dots')\n",
    "plt.plot(X, Y, color='red', label='initial curve')\n",
    "plt.legend()"
   ]
  },
  {
   "cell_type": "code",
   "execution_count": 250,
   "metadata": {},
   "outputs": [],
   "source": [
    "p_opt, p_cov = scipy.optimize.curve_fit(f_predicted, X, Y_noisy)"
   ]
  },
  {
   "cell_type": "code",
   "execution_count": 251,
   "metadata": {},
   "outputs": [],
   "source": [
    "Y_predicted = [f_predicted(x, *p_opt) for x in X]"
   ]
  },
  {
   "cell_type": "code",
   "execution_count": 266,
   "metadata": {},
   "outputs": [],
   "source": [
    "def f_pred(x):\n",
    "    return f_predicted(x, *p_opt)\n",
    "def f_pred_neg(x):\n",
    "    return -f_predicted(x, *p_opt)"
   ]
  },
  {
   "cell_type": "code",
   "execution_count": 267,
   "metadata": {},
   "outputs": [
    {
     "name": "stdout",
     "output_type": "stream",
     "text": [
      "Optimization terminated successfully.\n",
      "         Current function value: 1.166705\n",
      "         Iterations: 5\n",
      "         Function evaluations: 21\n",
      "         Gradient evaluations: 7\n",
      "Optimization terminated successfully.\n",
      "         Current function value: -8.042403\n",
      "         Iterations: 5\n",
      "         Function evaluations: 27\n",
      "         Gradient evaluations: 9\n"
     ]
    }
   ],
   "source": [
    "min_val = scipy.optimize.fmin_bfgs(f_pred, 0)[0]\n",
    "max_val = scipy.optimize.fmin_bfgs(f_pred_neg, 0)[0]"
   ]
  },
  {
   "cell_type": "code",
   "execution_count": 268,
   "metadata": {},
   "outputs": [
    {
     "data": {
      "text/plain": [
       "-1.8422996522324366"
      ]
     },
     "execution_count": 268,
     "metadata": {},
     "output_type": "execute_result"
    }
   ],
   "source": [
    "max_val"
   ]
  },
  {
   "cell_type": "code",
   "execution_count": 272,
   "metadata": {},
   "outputs": [
    {
     "data": {
      "text/plain": [
       "<matplotlib.legend.Legend at 0x10e65e48>"
      ]
     },
     "execution_count": 272,
     "metadata": {},
     "output_type": "execute_result"
    },
    {
     "data": {
      "image/png": "[encoded data removed]",
      "text/plain": [
       "<Figure size 720x576 with 1 Axes>"
      ]
     },
     "metadata": {},
     "output_type": "display_data"
    }
   ],
   "source": [
    "plt.rcParams['figure.figsize'] = 10, 8\n",
    "plt.xlabel(\"$x$\")\n",
    "plt.ylabel(\"$y$\")\n",
    "\n",
    "plt.plot(X, Y_noisy, \"o\", label='noisy dots')\n",
    "plt.plot(X, Y_predicted, color='green', label='predicted curve')\n",
    "plt.plot(min_val, f_pred(min_val), 'o', color='orange', label='minimum')\n",
    "plt.plot(max_val, f_pred(max_val), 'o', color='red', label='maximum')\n",
    "plt.legend()"
   ]
  }
 ],
 "metadata": {
  "kernelspec": {
   "display_name": "Python 3",
   "language": "python",
   "name": "python3"
  },
  "language_info": {
   "codemirror_mode": {
    "name": "ipython",
    "version": 3
   },
   "file_extension": ".py",
   "mimetype": "text/x-python",
   "name": "python",
   "nbconvert_exporter": "python",
   "pygments_lexer": "ipython3",
   "version": "3.6.5"
  }
 },
 "nbformat": 4,
 "nbformat_minor": 2
}
